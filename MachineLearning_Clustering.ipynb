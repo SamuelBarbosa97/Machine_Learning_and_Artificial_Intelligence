{
 "cells": [
  {
   "cell_type": "code",
   "execution_count": null,
   "metadata": {},
   "outputs": [],
   "source": [
    "import pandas as pd #módulo para manipular base de dados\n",
    "import numpy as np #módulo para manipular os vetores\n",
    "from matplotlib import pyplot as plt #biblioteca para plotar os gráficos\n",
    "from sklearn.cluster import KMeans #biblioteca para utilizar o KMeans (algorítmo de Clusterização)\n",
    "import plotly.graph_objs as go, plotly.express as px #Módulos para edição de layouts dos gráficos\n",
    "import seaborn as sns\n",
    "\n",
    "import plotly.figure_factory as ff\n",
    "import numpy as np"
   ]
  },
  {
   "cell_type": "code",
   "execution_count": null,
   "metadata": {},
   "outputs": [],
   "source": [
    "#Chamando a base de dados - AJUSTE O DIRETÓRIO CONFORME SUA ESTAÇÃO DE TRABALHO\n",
    "df_ml = pd.read_csv(r\"C:\\Users\\bruno\\Desktop\\Machine Learning Training\\ALTURA_POR_PAIS\\Height of Male and Female by Country 2022.csv\")\n",
    "df_ml"
   ]
  },
  {
   "cell_type": "code",
   "execution_count": null,
   "metadata": {},
   "outputs": [],
   "source": [
    "#Visualizando as propriedades e atributos do DF\n",
    "df_ml.info()"
   ]
  },
  {
   "cell_type": "code",
   "execution_count": null,
   "metadata": {},
   "outputs": [],
   "source": [
    "#Setando o índice\n",
    "df_ml.set_index('Country Name', inplace=True)\n",
    "df_ml.info()"
   ]
  },
  {
   "cell_type": "code",
   "execution_count": null,
   "metadata": {},
   "outputs": [],
   "source": [
    "#Definindo as variáveis (métricas) que serão consideradas na clusterização\n",
    "df_ml = df_ml.iloc[:,[1,2]]\n",
    "df_ml"
   ]
  },
  {
   "cell_type": "code",
   "execution_count": null,
   "metadata": {},
   "outputs": [],
   "source": [
    "#Removendo o título do índice\n",
    "df_ml.index.name = None\n",
    "df_ml"
   ]
  },
  {
   "cell_type": "code",
   "execution_count": null,
   "metadata": {},
   "outputs": [],
   "source": [
    "#Renomeando (e traduzindo) colunas para evitar problemas no modelo\n",
    "df_ml = df_ml.rename(columns={'Male Height in Cm' : 'Altura_Homens_Cm', 'Female Height in Cm' : 'Altura_Mulheres_Cm'})\n",
    "df_ml"
   ]
  },
  {
   "cell_type": "code",
   "execution_count": null,
   "metadata": {},
   "outputs": [],
   "source": [
    "#Análise inicial de dispersão dos dados\n",
    "plt.scatter(\n",
    "    x=df_ml.Altura_Mulheres_Cm, \n",
    "    y=df_ml.Altura_Homens_Cm,\n",
    "    s = 15, \n",
    "    c = '#481F67')\n",
    "plt.xlabel('Altura das Mulheres em centímetros')\n",
    "plt.ylabel('Altura dos Homens em centímetros')\n",
    "plt.title('Análise inicial de dispersão')\n",
    "plt.show()"
   ]
  },
  {
   "cell_type": "code",
   "execution_count": null,
   "metadata": {},
   "outputs": [],
   "source": [
    "#Criando objeto para armazenar as variáveis\n",
    "x = df_ml.iloc[:,[0,1]].values"
   ]
  },
  {
   "cell_type": "code",
   "execution_count": null,
   "metadata": {},
   "outputs": [],
   "source": [
    "#Executando o método Elbow\n",
    "elbow_ml = df_ml.iloc[:,[0,1]]"
   ]
  },
  {
   "cell_type": "code",
   "execution_count": null,
   "metadata": {},
   "outputs": [],
   "source": [
    "#Criando  Elbow method (Método Elbow, ou Curva de Cotovelo) para encontrar o número apropriado de Clusters\n",
    "wcss = []\n",
    "\n",
    "for i in range(1, 11):\n",
    "    kmeans = KMeans(n_clusters = i, max_iter = 300, n_init = 10, random_state = 0)\n",
    "    kmeans.fit(elbow_ml)\n",
    "    wcss.append(kmeans.inertia_)\n",
    "    \n",
    "# Mostra o Gráfico\n",
    "plt.plot(range(1, 11), \n",
    "         wcss,\n",
    "         'r--',\n",
    "         c = '#D13B56')\n",
    "plt.grid(True)\n",
    "ax = plt.axes() \n",
    "ax.set_facecolor(\"#F5F5F5\") \n",
    "plt.title('Curva de Cotovelo')\n",
    "plt.xlabel('Numero de Clusters')\n",
    "plt.ylabel('WCSS') #within cluster sum of squares\n",
    "plt.show()"
   ]
  },
  {
   "cell_type": "code",
   "execution_count": null,
   "metadata": {},
   "outputs": [],
   "source": [
    "#Se não colocarmos o número de clusters, o valor default de número de clusters é de 8 clusters.\n",
    "modelo_cluster = KMeans(n_clusters = 3, init = 'k-means++', max_iter = 300, n_init = 10, random_state = 0)\n",
    "\n",
    "#Cria o modelo de clusterização para agrupar os dados\n",
    "modelo_cluster = modelo_cluster.fit(x)\n",
    "\n",
    "#Mostra quais são as coordenadas de cada centroid para cada dimensão. Temos 2 dimensões e 3 clusters.\n",
    "modelo_cluster.cluster_centers_"
   ]
  },
  {
   "cell_type": "code",
   "execution_count": null,
   "metadata": {},
   "outputs": [],
   "source": [
    "# Mostra a quantidade de clusters\n",
    "modelo_cluster.n_clusters"
   ]
  },
  {
   "cell_type": "code",
   "execution_count": null,
   "metadata": {},
   "outputs": [],
   "source": [
    "#Criando nova coluna no DataFrame com os grupos\n",
    "df_ml['Agrupamento'] = modelo_cluster.labels_\n",
    "df_ml"
   ]
  },
  {
   "cell_type": "code",
   "execution_count": null,
   "metadata": {},
   "outputs": [],
   "source": [
    "#Mostra os labels\n",
    "labels = modelo_cluster.labels_\n",
    "labels"
   ]
  },
  {
   "cell_type": "code",
   "execution_count": null,
   "metadata": {},
   "outputs": [],
   "source": [
    "#Renomeando os grupos\n",
    "df_ml['Agrupamento'] = df_ml['Agrupamento'].map({0:'Grupo 1',\n",
    "                             1:'Grupo 2',\n",
    "                             2:'Grupo 3'})\n",
    "df_ml"
   ]
  },
  {
   "cell_type": "code",
   "execution_count": null,
   "metadata": {},
   "outputs": [],
   "source": [
    "#Faz a clusterização dos dados usando o modelo criado\n",
    "grupos = modelo_cluster.predict(x)\n",
    "\n",
    "#Mostra o Gráfico por Clusters\n",
    "sns.scatterplot(x=df_ml.Altura_Mulheres_Cm, y=df_ml.Altura_Homens_Cm, hue=df_ml.Agrupamento)\n",
    "plt.show()"
   ]
  },
  {
   "cell_type": "code",
   "execution_count": null,
   "metadata": {},
   "outputs": [],
   "source": [
    "#Visualiza os clusters com os Centroides\n",
    "plt.scatter(x[grupos == 0, 0], x[grupos == 0, 1], s = 100, c = '#A6A6A6') #label = 'Grupo 1'\n",
    "plt.scatter(x[grupos == 1, 0], x[grupos == 1, 1], s = 100, c = '#066664') #label = 'Grupo 2'\n",
    "plt.scatter(x[grupos == 2, 0], x[grupos == 2, 1], s = 100, c = '#2CF4EF') #label = 'Grupo 3'\n",
    "plt.scatter(modelo_cluster.cluster_centers_[:, 0], \n",
    "            modelo_cluster.cluster_centers_[:,1], \n",
    "            s = 150, \n",
    "            c = '#F56161', \n",
    "            label = 'Centroides')\n",
    "plt.style.use('classic')\n",
    "plt.title('Clustering', fontsize = 20)\n",
    "plt.xlabel('Altura dos Homens em centímetros')\n",
    "plt.ylabel('Altura dos Mulheres em centímetros')\n",
    "plt.legend()\n",
    "plt.grid()\n",
    "plt.show()"
   ]
  },
  {
   "cell_type": "code",
   "execution_count": null,
   "metadata": {},
   "outputs": [],
   "source": [
    "#Visualização adicional\n",
    "sns.pairplot(df_ml, hue=\"Agrupamento\")\n",
    "plt.style.use('classic')\n",
    "plt.show()"
   ]
  },
  {
   "cell_type": "code",
   "execution_count": null,
   "metadata": {},
   "outputs": [],
   "source": [
    "#CASO QUEIRA EXPORTAR O NOVO DataFrame PARA O EXCEL, BASTA AJUSTAR O DIRETÓRIO ABAIXO EM QUE DESEJA GUARDAR O ARQUIVO\n",
    "df_ml.to_excel(r'C:\\Users\\bruno\\Desktop\\Machine Learning Training\\ALTURA_POR_PAIS\\df_grupos.xlsx', index = True)"
   ]
  },
  {
   "cell_type": "code",
   "execution_count": null,
   "metadata": {},
   "outputs": [],
   "source": []
  },
  {
   "cell_type": "code",
   "execution_count": null,
   "metadata": {},
   "outputs": [],
   "source": []
  },
  {
   "cell_type": "code",
   "execution_count": null,
   "metadata": {},
   "outputs": [],
   "source": []
  },
  {
   "cell_type": "code",
   "execution_count": null,
   "metadata": {},
   "outputs": [],
   "source": []
  },
  {
   "cell_type": "code",
   "execution_count": null,
   "metadata": {},
   "outputs": [],
   "source": []
  },
  {
   "cell_type": "code",
   "execution_count": null,
   "metadata": {},
   "outputs": [],
   "source": []
  },
  {
   "cell_type": "code",
   "execution_count": null,
   "metadata": {},
   "outputs": [],
   "source": []
  },
  {
   "cell_type": "code",
   "execution_count": null,
   "metadata": {},
   "outputs": [],
   "source": []
  },
  {
   "cell_type": "code",
   "execution_count": null,
   "metadata": {},
   "outputs": [],
   "source": []
  }
 ],
 "metadata": {
  "kernelspec": {
   "display_name": "Python 3",
   "language": "python",
   "name": "python3"
  },
  "language_info": {
   "codemirror_mode": {
    "name": "ipython",
    "version": 3
   },
   "file_extension": ".py",
   "mimetype": "text/x-python",
   "name": "python",
   "nbconvert_exporter": "python",
   "pygments_lexer": "ipython3",
   "version": "3.8.5"
  }
 },
 "nbformat": 4,
 "nbformat_minor": 4
}
